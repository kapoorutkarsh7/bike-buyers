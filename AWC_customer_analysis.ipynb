{
 "cells": [
  {
   "cell_type": "markdown",
   "metadata": {},
   "source": [
    "## Preprocessing"
   ]
  },
  {
   "cell_type": "code",
   "execution_count": 67,
   "metadata": {},
   "outputs": [],
   "source": [
    "import pandas as pd\n",
    "import numpy as np\n",
    "import numpy.random as nr\n",
    "from sklearn.cluster import KMeans, AgglomerativeClustering\n",
    "from sklearn.metrics import silhouette_score\n",
    "from sklearn.preprocessing import StandardScaler\n",
    "import matplotlib.pyplot as plt\n",
    "import seaborn as sns\n",
    "import sklearn.model_selection as ms\n",
    "import sklearn.metrics as sklm\n",
    "from sklearn import preprocessing\n",
    "from sklearn import linear_model\n",
    "import scipy.stats as ss\n",
    "import seaborn as sns\n",
    "import math\n",
    "%matplotlib inline"
   ]
  },
  {
   "cell_type": "code",
   "execution_count": 68,
   "metadata": {},
   "outputs": [],
   "source": [
    "df=pd.read_csv(\"AW_AveMonthSpend.csv\")\n",
    "df1=pd.read_csv(\"AdvWorksCusts.csv\")\n",
    "df2=pd.read_csv(\"AW_BikeBuyer.csv\")\n",
    "\n"
   ]
  },
  {
   "cell_type": "code",
   "execution_count": 69,
   "metadata": {},
   "outputs": [
    {
     "data": {
      "text/html": [
       "<div>\n",
       "<style scoped>\n",
       "    .dataframe tbody tr th:only-of-type {\n",
       "        vertical-align: middle;\n",
       "    }\n",
       "\n",
       "    .dataframe tbody tr th {\n",
       "        vertical-align: top;\n",
       "    }\n",
       "\n",
       "    .dataframe thead th {\n",
       "        text-align: right;\n",
       "    }\n",
       "</style>\n",
       "<table border=\"1\" class=\"dataframe\">\n",
       "  <thead>\n",
       "    <tr style=\"text-align: right;\">\n",
       "      <th></th>\n",
       "      <th>CustomerID</th>\n",
       "      <th>AveMonthSpend</th>\n",
       "    </tr>\n",
       "  </thead>\n",
       "  <tbody>\n",
       "    <tr>\n",
       "      <th>0</th>\n",
       "      <td>11000</td>\n",
       "      <td>89</td>\n",
       "    </tr>\n",
       "    <tr>\n",
       "      <th>1</th>\n",
       "      <td>11001</td>\n",
       "      <td>117</td>\n",
       "    </tr>\n",
       "    <tr>\n",
       "      <th>2</th>\n",
       "      <td>11002</td>\n",
       "      <td>123</td>\n",
       "    </tr>\n",
       "    <tr>\n",
       "      <th>3</th>\n",
       "      <td>11003</td>\n",
       "      <td>50</td>\n",
       "    </tr>\n",
       "    <tr>\n",
       "      <th>4</th>\n",
       "      <td>11004</td>\n",
       "      <td>95</td>\n",
       "    </tr>\n",
       "  </tbody>\n",
       "</table>\n",
       "</div>"
      ],
      "text/plain": [
       "   CustomerID  AveMonthSpend\n",
       "0       11000             89\n",
       "1       11001            117\n",
       "2       11002            123\n",
       "3       11003             50\n",
       "4       11004             95"
      ]
     },
     "execution_count": 69,
     "metadata": {},
     "output_type": "execute_result"
    }
   ],
   "source": [
    "df.head()"
   ]
  },
  {
   "cell_type": "code",
   "execution_count": 70,
   "metadata": {},
   "outputs": [
    {
     "data": {
      "text/plain": [
       "22"
      ]
     },
     "execution_count": 70,
     "metadata": {},
     "output_type": "execute_result"
    }
   ],
   "source": [
    "df[\"AveMonthSpend\"].min()"
   ]
  },
  {
   "cell_type": "code",
   "execution_count": 71,
   "metadata": {},
   "outputs": [
    {
     "data": {
      "text/plain": [
       "16404"
      ]
     },
     "execution_count": 71,
     "metadata": {},
     "output_type": "execute_result"
    }
   ],
   "source": [
    "len(df['CustomerID'].unique())"
   ]
  },
  {
   "cell_type": "code",
   "execution_count": 72,
   "metadata": {
    "scrolled": true
   },
   "outputs": [
    {
     "data": {
      "text/plain": [
       "16404"
      ]
     },
     "execution_count": 72,
     "metadata": {},
     "output_type": "execute_result"
    }
   ],
   "source": [
    "def keep_unique(df):\n",
    "    lis=[]\n",
    "    for x in df[\"CustomerID\"]:\n",
    "        if x in lis:\n",
    "            df.drop(axis=0, inplace=True, labels=df[df[\"CustomerID\"]==x].index[0])\n",
    "        else:\n",
    "            lis.append(x)\n",
    "\n",
    "keep_unique(df)\n",
    "len(df['CustomerID'])   "
   ]
  },
  {
   "cell_type": "code",
   "execution_count": 73,
   "metadata": {},
   "outputs": [
    {
     "data": {
      "text/html": [
       "<div>\n",
       "<style scoped>\n",
       "    .dataframe tbody tr th:only-of-type {\n",
       "        vertical-align: middle;\n",
       "    }\n",
       "\n",
       "    .dataframe tbody tr th {\n",
       "        vertical-align: top;\n",
       "    }\n",
       "\n",
       "    .dataframe thead th {\n",
       "        text-align: right;\n",
       "    }\n",
       "</style>\n",
       "<table border=\"1\" class=\"dataframe\">\n",
       "  <thead>\n",
       "    <tr style=\"text-align: right;\">\n",
       "      <th></th>\n",
       "      <th>CustomerID</th>\n",
       "      <th>AveMonthSpend</th>\n",
       "    </tr>\n",
       "  </thead>\n",
       "  <tbody>\n",
       "    <tr>\n",
       "      <th>count</th>\n",
       "      <td>16404.000000</td>\n",
       "      <td>16404.000000</td>\n",
       "    </tr>\n",
       "    <tr>\n",
       "      <th>mean</th>\n",
       "      <td>20240.143136</td>\n",
       "      <td>72.391002</td>\n",
       "    </tr>\n",
       "    <tr>\n",
       "      <th>std</th>\n",
       "      <td>5340.370705</td>\n",
       "      <td>27.269921</td>\n",
       "    </tr>\n",
       "    <tr>\n",
       "      <th>min</th>\n",
       "      <td>11000.000000</td>\n",
       "      <td>22.000000</td>\n",
       "    </tr>\n",
       "    <tr>\n",
       "      <th>25%</th>\n",
       "      <td>15617.750000</td>\n",
       "      <td>52.000000</td>\n",
       "    </tr>\n",
       "    <tr>\n",
       "      <th>50%</th>\n",
       "      <td>20231.500000</td>\n",
       "      <td>68.000000</td>\n",
       "    </tr>\n",
       "    <tr>\n",
       "      <th>75%</th>\n",
       "      <td>24862.250000</td>\n",
       "      <td>84.000000</td>\n",
       "    </tr>\n",
       "    <tr>\n",
       "      <th>max</th>\n",
       "      <td>29482.000000</td>\n",
       "      <td>176.000000</td>\n",
       "    </tr>\n",
       "  </tbody>\n",
       "</table>\n",
       "</div>"
      ],
      "text/plain": [
       "         CustomerID  AveMonthSpend\n",
       "count  16404.000000   16404.000000\n",
       "mean   20240.143136      72.391002\n",
       "std     5340.370705      27.269921\n",
       "min    11000.000000      22.000000\n",
       "25%    15617.750000      52.000000\n",
       "50%    20231.500000      68.000000\n",
       "75%    24862.250000      84.000000\n",
       "max    29482.000000     176.000000"
      ]
     },
     "execution_count": 73,
     "metadata": {},
     "output_type": "execute_result"
    }
   ],
   "source": [
    "df.describe()"
   ]
  },
  {
   "cell_type": "code",
   "execution_count": 74,
   "metadata": {},
   "outputs": [],
   "source": [
    "keep_unique(df1)"
   ]
  },
  {
   "cell_type": "code",
   "execution_count": 75,
   "metadata": {},
   "outputs": [
    {
     "data": {
      "text/plain": [
       "5455"
      ]
     },
     "execution_count": 75,
     "metadata": {},
     "output_type": "execute_result"
    }
   ],
   "source": [
    "keep_unique(df2)\n",
    "df2[\"BikeBuyer\"].sum()"
   ]
  },
  {
   "cell_type": "code",
   "execution_count": 76,
   "metadata": {},
   "outputs": [
    {
     "name": "stdout",
     "output_type": "stream",
     "text": [
      "['Professional', YearlyIncome    99058.0\n",
      "dtype: float64, 'Management', YearlyIncome    118781.0\n",
      "dtype: float64, 'Skilled Manual', YearlyIncome    66471.5\n",
      "dtype: float64, 'Clerical', YearlyIncome    49481.0\n",
      "dtype: float64, 'Manual', YearlyIncome    21722.0\n",
      "dtype: float64]\n"
     ]
    }
   ],
   "source": [
    "def cat_median():\n",
    "    a=df1.loc[:,[\"YearlyIncome\", \"Occupation\"]]\n",
    "    b=a[\"Occupation\"].unique()\n",
    "    lis=[]\n",
    "    for x in b:\n",
    "        temp_df=a[a[\"Occupation\"]==x]\n",
    "        lis.append(x)\n",
    "        lis.append(temp_df.median())\n",
    "    return lis\n",
    "print(cat_median())\n"
   ]
  },
  {
   "cell_type": "code",
   "execution_count": 77,
   "metadata": {},
   "outputs": [],
   "source": [
    "df=pd.merge(df,df1, how='outer', left_on='CustomerID', right_on='CustomerID') "
   ]
  },
  {
   "cell_type": "code",
   "execution_count": 78,
   "metadata": {},
   "outputs": [
    {
     "name": "stderr",
     "output_type": "stream",
     "text": [
      "C:\\Users\\prakash\\anaconda3\\lib\\site-packages\\ipykernel_launcher.py:2: SettingWithCopyWarning: \n",
      "A value is trying to be set on a copy of a slice from a DataFrame\n",
      "\n",
      "See the caveats in the documentation: https://pandas.pydata.org/pandas-docs/stable/user_guide/indexing.html#returning-a-view-versus-a-copy\n",
      "  \n"
     ]
    }
   ],
   "source": [
    "for x in range (len(df[\"BirthDate\"])):\n",
    "    df[\"BirthDate\"][x]= np.int64(str((pd.Timestamp('9/1/2016')-pd.Timestamp(df[\"BirthDate\"][x]))/366).split()[0])\n",
    "df[\"Age\"]= df[\"BirthDate\"]"
   ]
  },
  {
   "cell_type": "code",
   "execution_count": 79,
   "metadata": {},
   "outputs": [
    {
     "data": {
      "text/plain": [
       "numpy.int64"
      ]
     },
     "execution_count": 79,
     "metadata": {},
     "output_type": "execute_result"
    }
   ],
   "source": [
    "type(np.int64(str(df[\"BirthDate\"][0]).split()[0]))"
   ]
  },
  {
   "cell_type": "code",
   "execution_count": 80,
   "metadata": {},
   "outputs": [
    {
     "name": "stdout",
     "output_type": "stream",
     "text": [
      "74.0 62.0\n"
     ]
    }
   ],
   "source": [
    "temp=df[df[\"MaritalStatus\"]==\"M\"][\"AveMonthSpend\"].median()\n",
    "temp2=df[df[\"MaritalStatus\"]==\"S\"][\"AveMonthSpend\"].median()\n",
    "print(temp,temp2)"
   ]
  },
  {
   "cell_type": "code",
   "execution_count": 81,
   "metadata": {},
   "outputs": [
    {
     "name": "stdout",
     "output_type": "stream",
     "text": [
      "65.0 96.0\n"
     ]
    }
   ],
   "source": [
    "temp=df[df[\"NumberCarsOwned\"]==0][\"AveMonthSpend\"].median()\n",
    "temp2=df[df[\"NumberCarsOwned\"]>=3][\"AveMonthSpend\"].median()\n",
    "print(temp,temp2)"
   ]
  },
  {
   "cell_type": "code",
   "execution_count": 82,
   "metadata": {},
   "outputs": [
    {
     "name": "stdout",
     "output_type": "stream",
     "text": [
      "count    8290.000000\n",
      "mean       87.826659\n",
      "std        26.947794\n",
      "min        29.000000\n",
      "25%        70.000000\n",
      "50%        79.000000\n",
      "75%        96.000000\n",
      "max       176.000000\n",
      "Name: AveMonthSpend, dtype: float64 count    8114.000000\n",
      "mean       56.620532\n",
      "std        16.413050\n",
      "min        22.000000\n",
      "25%        46.000000\n",
      "50%        52.000000\n",
      "75%        61.000000\n",
      "max       114.000000\n",
      "Name: AveMonthSpend, dtype: float64\n"
     ]
    }
   ],
   "source": [
    "temp=df[df[\"Gender\"]==\"M\"][\"AveMonthSpend\"].describe()\n",
    "temp2=df[df[\"Gender\"]==\"F\"][\"AveMonthSpend\"].describe()\n",
    "print(temp,temp2)"
   ]
  },
  {
   "cell_type": "code",
   "execution_count": 83,
   "metadata": {},
   "outputs": [
    {
     "name": "stdout",
     "output_type": "stream",
     "text": [
      "57.0 88.0\n"
     ]
    }
   ],
   "source": [
    "temp=df[df[\"NumberChildrenAtHome\"]==0][\"AveMonthSpend\"].median()\n",
    "temp2=df[df[\"NumberChildrenAtHome\"]>=1][\"AveMonthSpend\"].median()\n",
    "print(temp,temp2)"
   ]
  },
  {
   "cell_type": "code",
   "execution_count": 84,
   "metadata": {},
   "outputs": [],
   "source": [
    "df=pd.merge(df,df2, how='outer', left_on='CustomerID', right_on='CustomerID')"
   ]
  },
  {
   "cell_type": "code",
   "execution_count": 85,
   "metadata": {},
   "outputs": [
    {
     "name": "stdout",
     "output_type": "stream",
     "text": [
      "65957.0 96084.0\n"
     ]
    }
   ],
   "source": [
    "temp=df[df[\"BikeBuyer\"]==0][\"YearlyIncome\"].median()\n",
    "temp2=df[df[\"BikeBuyer\"]==1][\"YearlyIncome\"].median()\n",
    "print(temp,temp2)"
   ]
  },
  {
   "cell_type": "code",
   "execution_count": 86,
   "metadata": {},
   "outputs": [
    {
     "name": "stdout",
     "output_type": "stream",
     "text": [
      "1.0 2.0\n"
     ]
    }
   ],
   "source": [
    "temp=df[df[\"BikeBuyer\"]==0][\"NumberCarsOwned\"].median()\n",
    "temp2=df[df[\"BikeBuyer\"]==1][\"NumberCarsOwned\"].median()\n",
    "print(temp,temp2)"
   ]
  },
  {
   "cell_type": "code",
   "execution_count": 87,
   "metadata": {},
   "outputs": [
    {
     "data": {
      "text/plain": [
       "S    3256\n",
       "M    2199\n",
       "Name: MaritalStatus, dtype: int64"
      ]
     },
     "execution_count": 87,
     "metadata": {},
     "output_type": "execute_result"
    }
   ],
   "source": [
    "temp=df[df[\"BikeBuyer\"]==1][\"MaritalStatus\"].value_counts()\n",
    "temp"
   ]
  },
  {
   "cell_type": "code",
   "execution_count": 88,
   "metadata": {},
   "outputs": [
    {
     "data": {
      "text/html": [
       "<div>\n",
       "<style scoped>\n",
       "    .dataframe tbody tr th:only-of-type {\n",
       "        vertical-align: middle;\n",
       "    }\n",
       "\n",
       "    .dataframe tbody tr th {\n",
       "        vertical-align: top;\n",
       "    }\n",
       "\n",
       "    .dataframe thead th {\n",
       "        text-align: right;\n",
       "    }\n",
       "</style>\n",
       "<table border=\"1\" class=\"dataframe\">\n",
       "  <thead>\n",
       "    <tr style=\"text-align: right;\">\n",
       "      <th></th>\n",
       "      <th>CustomerID</th>\n",
       "      <th>AveMonthSpend</th>\n",
       "      <th>Title</th>\n",
       "      <th>FirstName</th>\n",
       "      <th>MiddleName</th>\n",
       "      <th>LastName</th>\n",
       "      <th>Suffix</th>\n",
       "      <th>AddressLine1</th>\n",
       "      <th>AddressLine2</th>\n",
       "      <th>City</th>\n",
       "      <th>StateProvinceName</th>\n",
       "      <th>CountryRegionName</th>\n",
       "      <th>PostalCode</th>\n",
       "      <th>PhoneNumber</th>\n",
       "      <th>BirthDate</th>\n",
       "      <th>Education</th>\n",
       "      <th>Occupation</th>\n",
       "      <th>Gender</th>\n",
       "      <th>MaritalStatus</th>\n",
       "      <th>HomeOwnerFlag</th>\n",
       "      <th>NumberCarsOwned</th>\n",
       "      <th>NumberChildrenAtHome</th>\n",
       "      <th>TotalChildren</th>\n",
       "      <th>YearlyIncome</th>\n",
       "      <th>Age</th>\n",
       "      <th>BikeBuyer</th>\n",
       "    </tr>\n",
       "  </thead>\n",
       "  <tbody>\n",
       "    <tr>\n",
       "      <th>0</th>\n",
       "      <td>11000</td>\n",
       "      <td>89</td>\n",
       "      <td>NaN</td>\n",
       "      <td>Jon</td>\n",
       "      <td>V</td>\n",
       "      <td>Yang</td>\n",
       "      <td>NaN</td>\n",
       "      <td>3761 N. 14th St</td>\n",
       "      <td>NaN</td>\n",
       "      <td>Rockhampton</td>\n",
       "      <td>Queensland</td>\n",
       "      <td>Australia</td>\n",
       "      <td>4700</td>\n",
       "      <td>1 (11) 500 555-0162</td>\n",
       "      <td>50</td>\n",
       "      <td>Bachelors</td>\n",
       "      <td>Professional</td>\n",
       "      <td>M</td>\n",
       "      <td>M</td>\n",
       "      <td>1</td>\n",
       "      <td>0</td>\n",
       "      <td>0</td>\n",
       "      <td>2</td>\n",
       "      <td>137947</td>\n",
       "      <td>50</td>\n",
       "      <td>0</td>\n",
       "    </tr>\n",
       "    <tr>\n",
       "      <th>1</th>\n",
       "      <td>11001</td>\n",
       "      <td>117</td>\n",
       "      <td>NaN</td>\n",
       "      <td>Eugene</td>\n",
       "      <td>L</td>\n",
       "      <td>Huang</td>\n",
       "      <td>NaN</td>\n",
       "      <td>2243 W St.</td>\n",
       "      <td>NaN</td>\n",
       "      <td>Seaford</td>\n",
       "      <td>Victoria</td>\n",
       "      <td>Australia</td>\n",
       "      <td>3198</td>\n",
       "      <td>1 (11) 500 555-0110</td>\n",
       "      <td>51</td>\n",
       "      <td>Bachelors</td>\n",
       "      <td>Professional</td>\n",
       "      <td>M</td>\n",
       "      <td>S</td>\n",
       "      <td>0</td>\n",
       "      <td>1</td>\n",
       "      <td>3</td>\n",
       "      <td>3</td>\n",
       "      <td>101141</td>\n",
       "      <td>51</td>\n",
       "      <td>1</td>\n",
       "    </tr>\n",
       "    <tr>\n",
       "      <th>2</th>\n",
       "      <td>11002</td>\n",
       "      <td>123</td>\n",
       "      <td>NaN</td>\n",
       "      <td>Ruben</td>\n",
       "      <td>NaN</td>\n",
       "      <td>Torres</td>\n",
       "      <td>NaN</td>\n",
       "      <td>5844 Linden Land</td>\n",
       "      <td>NaN</td>\n",
       "      <td>Hobart</td>\n",
       "      <td>Tasmania</td>\n",
       "      <td>Australia</td>\n",
       "      <td>7001</td>\n",
       "      <td>1 (11) 500 555-0184</td>\n",
       "      <td>50</td>\n",
       "      <td>Bachelors</td>\n",
       "      <td>Professional</td>\n",
       "      <td>M</td>\n",
       "      <td>M</td>\n",
       "      <td>1</td>\n",
       "      <td>1</td>\n",
       "      <td>3</td>\n",
       "      <td>3</td>\n",
       "      <td>91945</td>\n",
       "      <td>50</td>\n",
       "      <td>0</td>\n",
       "    </tr>\n",
       "    <tr>\n",
       "      <th>3</th>\n",
       "      <td>11003</td>\n",
       "      <td>50</td>\n",
       "      <td>NaN</td>\n",
       "      <td>Christy</td>\n",
       "      <td>NaN</td>\n",
       "      <td>Zhu</td>\n",
       "      <td>NaN</td>\n",
       "      <td>1825 Village Pl.</td>\n",
       "      <td>NaN</td>\n",
       "      <td>North Ryde</td>\n",
       "      <td>New South Wales</td>\n",
       "      <td>Australia</td>\n",
       "      <td>2113</td>\n",
       "      <td>1 (11) 500 555-0162</td>\n",
       "      <td>48</td>\n",
       "      <td>Bachelors</td>\n",
       "      <td>Professional</td>\n",
       "      <td>F</td>\n",
       "      <td>S</td>\n",
       "      <td>0</td>\n",
       "      <td>1</td>\n",
       "      <td>0</td>\n",
       "      <td>0</td>\n",
       "      <td>86688</td>\n",
       "      <td>48</td>\n",
       "      <td>0</td>\n",
       "    </tr>\n",
       "    <tr>\n",
       "      <th>4</th>\n",
       "      <td>11004</td>\n",
       "      <td>95</td>\n",
       "      <td>NaN</td>\n",
       "      <td>Elizabeth</td>\n",
       "      <td>NaN</td>\n",
       "      <td>Johnson</td>\n",
       "      <td>NaN</td>\n",
       "      <td>7553 Harness Circle</td>\n",
       "      <td>NaN</td>\n",
       "      <td>Wollongong</td>\n",
       "      <td>New South Wales</td>\n",
       "      <td>Australia</td>\n",
       "      <td>2500</td>\n",
       "      <td>1 (11) 500 555-0131</td>\n",
       "      <td>47</td>\n",
       "      <td>Bachelors</td>\n",
       "      <td>Professional</td>\n",
       "      <td>F</td>\n",
       "      <td>S</td>\n",
       "      <td>1</td>\n",
       "      <td>4</td>\n",
       "      <td>5</td>\n",
       "      <td>5</td>\n",
       "      <td>92771</td>\n",
       "      <td>47</td>\n",
       "      <td>1</td>\n",
       "    </tr>\n",
       "    <tr>\n",
       "      <th>...</th>\n",
       "      <td>...</td>\n",
       "      <td>...</td>\n",
       "      <td>...</td>\n",
       "      <td>...</td>\n",
       "      <td>...</td>\n",
       "      <td>...</td>\n",
       "      <td>...</td>\n",
       "      <td>...</td>\n",
       "      <td>...</td>\n",
       "      <td>...</td>\n",
       "      <td>...</td>\n",
       "      <td>...</td>\n",
       "      <td>...</td>\n",
       "      <td>...</td>\n",
       "      <td>...</td>\n",
       "      <td>...</td>\n",
       "      <td>...</td>\n",
       "      <td>...</td>\n",
       "      <td>...</td>\n",
       "      <td>...</td>\n",
       "      <td>...</td>\n",
       "      <td>...</td>\n",
       "      <td>...</td>\n",
       "      <td>...</td>\n",
       "      <td>...</td>\n",
       "      <td>...</td>\n",
       "    </tr>\n",
       "    <tr>\n",
       "      <th>16399</th>\n",
       "      <td>13121</td>\n",
       "      <td>101</td>\n",
       "      <td>NaN</td>\n",
       "      <td>Latasha</td>\n",
       "      <td>E</td>\n",
       "      <td>Jimenez</td>\n",
       "      <td>NaN</td>\n",
       "      <td>7259 Birchwood</td>\n",
       "      <td>NaN</td>\n",
       "      <td>Melton</td>\n",
       "      <td>Victoria</td>\n",
       "      <td>Australia</td>\n",
       "      <td>3337</td>\n",
       "      <td>1 (11) 500 555-0118</td>\n",
       "      <td>51</td>\n",
       "      <td>Bachelors</td>\n",
       "      <td>Professional</td>\n",
       "      <td>F</td>\n",
       "      <td>M</td>\n",
       "      <td>1</td>\n",
       "      <td>4</td>\n",
       "      <td>5</td>\n",
       "      <td>5</td>\n",
       "      <td>101542</td>\n",
       "      <td>51</td>\n",
       "      <td>0</td>\n",
       "    </tr>\n",
       "    <tr>\n",
       "      <th>16400</th>\n",
       "      <td>26100</td>\n",
       "      <td>46</td>\n",
       "      <td>NaN</td>\n",
       "      <td>James</td>\n",
       "      <td>Garner</td>\n",
       "      <td>Ptaszynski</td>\n",
       "      <td>NaN</td>\n",
       "      <td>7345 Kenwal Rd.</td>\n",
       "      <td>NaN</td>\n",
       "      <td>Shawnee</td>\n",
       "      <td>British Columbia</td>\n",
       "      <td>Canada</td>\n",
       "      <td>V8Z 4N5</td>\n",
       "      <td>127-555-0194</td>\n",
       "      <td>80</td>\n",
       "      <td>Partial College</td>\n",
       "      <td>Professional</td>\n",
       "      <td>F</td>\n",
       "      <td>S</td>\n",
       "      <td>1</td>\n",
       "      <td>2</td>\n",
       "      <td>0</td>\n",
       "      <td>3</td>\n",
       "      <td>46549</td>\n",
       "      <td>80</td>\n",
       "      <td>0</td>\n",
       "    </tr>\n",
       "    <tr>\n",
       "      <th>16401</th>\n",
       "      <td>11328</td>\n",
       "      <td>79</td>\n",
       "      <td>NaN</td>\n",
       "      <td>Julian</td>\n",
       "      <td>M</td>\n",
       "      <td>Griffin</td>\n",
       "      <td>NaN</td>\n",
       "      <td>7398 Withersed Lane</td>\n",
       "      <td>NaN</td>\n",
       "      <td>Newton</td>\n",
       "      <td>British Columbia</td>\n",
       "      <td>Canada</td>\n",
       "      <td>V2L3W8</td>\n",
       "      <td>636-555-0197</td>\n",
       "      <td>76</td>\n",
       "      <td>Bachelors</td>\n",
       "      <td>Management</td>\n",
       "      <td>M</td>\n",
       "      <td>M</td>\n",
       "      <td>1</td>\n",
       "      <td>2</td>\n",
       "      <td>0</td>\n",
       "      <td>5</td>\n",
       "      <td>133053</td>\n",
       "      <td>76</td>\n",
       "      <td>0</td>\n",
       "    </tr>\n",
       "    <tr>\n",
       "      <th>16402</th>\n",
       "      <td>23077</td>\n",
       "      <td>65</td>\n",
       "      <td>NaN</td>\n",
       "      <td>Marvin</td>\n",
       "      <td>A</td>\n",
       "      <td>Hernandez</td>\n",
       "      <td>NaN</td>\n",
       "      <td>1019 Book Road</td>\n",
       "      <td>NaN</td>\n",
       "      <td>Rhodes</td>\n",
       "      <td>New South Wales</td>\n",
       "      <td>Australia</td>\n",
       "      <td>2138</td>\n",
       "      <td>1 (11) 500 555-0112</td>\n",
       "      <td>69</td>\n",
       "      <td>High School</td>\n",
       "      <td>Skilled Manual</td>\n",
       "      <td>M</td>\n",
       "      <td>M</td>\n",
       "      <td>1</td>\n",
       "      <td>2</td>\n",
       "      <td>0</td>\n",
       "      <td>4</td>\n",
       "      <td>31930</td>\n",
       "      <td>69</td>\n",
       "      <td>0</td>\n",
       "    </tr>\n",
       "    <tr>\n",
       "      <th>16403</th>\n",
       "      <td>18982</td>\n",
       "      <td>68</td>\n",
       "      <td>NaN</td>\n",
       "      <td>Kyle</td>\n",
       "      <td>NaN</td>\n",
       "      <td>Baker</td>\n",
       "      <td>NaN</td>\n",
       "      <td>2118 Little Dr.</td>\n",
       "      <td>NaN</td>\n",
       "      <td>Kirkland</td>\n",
       "      <td>Washington</td>\n",
       "      <td>United States</td>\n",
       "      <td>98033</td>\n",
       "      <td>685-555-0144</td>\n",
       "      <td>71</td>\n",
       "      <td>High School</td>\n",
       "      <td>Professional</td>\n",
       "      <td>M</td>\n",
       "      <td>S</td>\n",
       "      <td>1</td>\n",
       "      <td>2</td>\n",
       "      <td>0</td>\n",
       "      <td>4</td>\n",
       "      <td>59382</td>\n",
       "      <td>71</td>\n",
       "      <td>0</td>\n",
       "    </tr>\n",
       "  </tbody>\n",
       "</table>\n",
       "<p>16404 rows × 26 columns</p>\n",
       "</div>"
      ],
      "text/plain": [
       "       CustomerID  AveMonthSpend Title  FirstName MiddleName    LastName  \\\n",
       "0           11000             89   NaN        Jon          V        Yang   \n",
       "1           11001            117   NaN     Eugene          L       Huang   \n",
       "2           11002            123   NaN      Ruben        NaN      Torres   \n",
       "3           11003             50   NaN    Christy        NaN         Zhu   \n",
       "4           11004             95   NaN  Elizabeth        NaN     Johnson   \n",
       "...           ...            ...   ...        ...        ...         ...   \n",
       "16399       13121            101   NaN    Latasha          E     Jimenez   \n",
       "16400       26100             46   NaN      James     Garner  Ptaszynski   \n",
       "16401       11328             79   NaN     Julian          M     Griffin   \n",
       "16402       23077             65   NaN     Marvin          A   Hernandez   \n",
       "16403       18982             68   NaN       Kyle        NaN       Baker   \n",
       "\n",
       "      Suffix         AddressLine1 AddressLine2         City StateProvinceName  \\\n",
       "0        NaN      3761 N. 14th St          NaN  Rockhampton        Queensland   \n",
       "1        NaN           2243 W St.          NaN      Seaford          Victoria   \n",
       "2        NaN     5844 Linden Land          NaN       Hobart          Tasmania   \n",
       "3        NaN     1825 Village Pl.          NaN   North Ryde   New South Wales   \n",
       "4        NaN  7553 Harness Circle          NaN   Wollongong   New South Wales   \n",
       "...      ...                  ...          ...          ...               ...   \n",
       "16399    NaN       7259 Birchwood          NaN       Melton          Victoria   \n",
       "16400    NaN      7345 Kenwal Rd.          NaN      Shawnee  British Columbia   \n",
       "16401    NaN  7398 Withersed Lane          NaN       Newton  British Columbia   \n",
       "16402    NaN       1019 Book Road          NaN       Rhodes   New South Wales   \n",
       "16403    NaN      2118 Little Dr.          NaN     Kirkland        Washington   \n",
       "\n",
       "      CountryRegionName PostalCode          PhoneNumber BirthDate  \\\n",
       "0             Australia       4700  1 (11) 500 555-0162        50   \n",
       "1             Australia       3198  1 (11) 500 555-0110        51   \n",
       "2             Australia       7001  1 (11) 500 555-0184        50   \n",
       "3             Australia       2113  1 (11) 500 555-0162        48   \n",
       "4             Australia       2500  1 (11) 500 555-0131        47   \n",
       "...                 ...        ...                  ...       ...   \n",
       "16399         Australia       3337  1 (11) 500 555-0118        51   \n",
       "16400            Canada    V8Z 4N5         127-555-0194        80   \n",
       "16401            Canada     V2L3W8         636-555-0197        76   \n",
       "16402         Australia       2138  1 (11) 500 555-0112        69   \n",
       "16403     United States      98033         685-555-0144        71   \n",
       "\n",
       "             Education      Occupation Gender MaritalStatus  HomeOwnerFlag  \\\n",
       "0           Bachelors     Professional      M             M              1   \n",
       "1           Bachelors     Professional      M             S              0   \n",
       "2           Bachelors     Professional      M             M              1   \n",
       "3           Bachelors     Professional      F             S              0   \n",
       "4           Bachelors     Professional      F             S              1   \n",
       "...                ...             ...    ...           ...            ...   \n",
       "16399       Bachelors     Professional      F             M              1   \n",
       "16400  Partial College    Professional      F             S              1   \n",
       "16401       Bachelors       Management      M             M              1   \n",
       "16402      High School  Skilled Manual      M             M              1   \n",
       "16403      High School    Professional      M             S              1   \n",
       "\n",
       "       NumberCarsOwned  NumberChildrenAtHome  TotalChildren  YearlyIncome Age  \\\n",
       "0                    0                     0              2        137947  50   \n",
       "1                    1                     3              3        101141  51   \n",
       "2                    1                     3              3         91945  50   \n",
       "3                    1                     0              0         86688  48   \n",
       "4                    4                     5              5         92771  47   \n",
       "...                ...                   ...            ...           ...  ..   \n",
       "16399                4                     5              5        101542  51   \n",
       "16400                2                     0              3         46549  80   \n",
       "16401                2                     0              5        133053  76   \n",
       "16402                2                     0              4         31930  69   \n",
       "16403                2                     0              4         59382  71   \n",
       "\n",
       "       BikeBuyer  \n",
       "0              0  \n",
       "1              1  \n",
       "2              0  \n",
       "3              0  \n",
       "4              1  \n",
       "...          ...  \n",
       "16399          0  \n",
       "16400          0  \n",
       "16401          0  \n",
       "16402          0  \n",
       "16403          0  \n",
       "\n",
       "[16404 rows x 26 columns]"
      ]
     },
     "execution_count": 88,
     "metadata": {},
     "output_type": "execute_result"
    }
   ],
   "source": [
    "df"
   ]
  },
  {
   "cell_type": "code",
   "execution_count": 89,
   "metadata": {},
   "outputs": [
    {
     "data": {
      "text/plain": [
       "CustomerID                  0\n",
       "AveMonthSpend               0\n",
       "Title                   16316\n",
       "FirstName                   0\n",
       "MiddleName               6951\n",
       "LastName                    0\n",
       "Suffix                  16402\n",
       "AddressLine1                0\n",
       "AddressLine2            16131\n",
       "City                        0\n",
       "StateProvinceName           0\n",
       "CountryRegionName           0\n",
       "PostalCode                  0\n",
       "PhoneNumber                 0\n",
       "BirthDate                   0\n",
       "Education                   0\n",
       "Occupation                  0\n",
       "Gender                      0\n",
       "MaritalStatus               0\n",
       "HomeOwnerFlag               0\n",
       "NumberCarsOwned             0\n",
       "NumberChildrenAtHome        0\n",
       "TotalChildren               0\n",
       "YearlyIncome                0\n",
       "Age                         0\n",
       "BikeBuyer                   0\n",
       "dtype: int64"
      ]
     },
     "execution_count": 89,
     "metadata": {},
     "output_type": "execute_result"
    }
   ],
   "source": [
    "df.isna().sum()"
   ]
  },
  {
   "cell_type": "code",
   "execution_count": 90,
   "metadata": {},
   "outputs": [
    {
     "data": {
      "text/html": [
       "<div>\n",
       "<style scoped>\n",
       "    .dataframe tbody tr th:only-of-type {\n",
       "        vertical-align: middle;\n",
       "    }\n",
       "\n",
       "    .dataframe tbody tr th {\n",
       "        vertical-align: top;\n",
       "    }\n",
       "\n",
       "    .dataframe thead th {\n",
       "        text-align: right;\n",
       "    }\n",
       "</style>\n",
       "<table border=\"1\" class=\"dataframe\">\n",
       "  <thead>\n",
       "    <tr style=\"text-align: right;\">\n",
       "      <th></th>\n",
       "      <th>CustomerID</th>\n",
       "      <th>AveMonthSpend</th>\n",
       "      <th>FirstName</th>\n",
       "      <th>LastName</th>\n",
       "      <th>AddressLine1</th>\n",
       "      <th>City</th>\n",
       "      <th>StateProvinceName</th>\n",
       "      <th>CountryRegionName</th>\n",
       "      <th>PostalCode</th>\n",
       "      <th>PhoneNumber</th>\n",
       "      <th>BirthDate</th>\n",
       "      <th>Education</th>\n",
       "      <th>Occupation</th>\n",
       "      <th>Gender</th>\n",
       "      <th>MaritalStatus</th>\n",
       "      <th>HomeOwnerFlag</th>\n",
       "      <th>NumberCarsOwned</th>\n",
       "      <th>NumberChildrenAtHome</th>\n",
       "      <th>TotalChildren</th>\n",
       "      <th>YearlyIncome</th>\n",
       "      <th>Age</th>\n",
       "      <th>BikeBuyer</th>\n",
       "    </tr>\n",
       "  </thead>\n",
       "  <tbody>\n",
       "    <tr>\n",
       "      <th>0</th>\n",
       "      <td>11000</td>\n",
       "      <td>89</td>\n",
       "      <td>Jon</td>\n",
       "      <td>Yang</td>\n",
       "      <td>3761 N. 14th St</td>\n",
       "      <td>Rockhampton</td>\n",
       "      <td>Queensland</td>\n",
       "      <td>Australia</td>\n",
       "      <td>4700</td>\n",
       "      <td>1 (11) 500 555-0162</td>\n",
       "      <td>50</td>\n",
       "      <td>Bachelors</td>\n",
       "      <td>Professional</td>\n",
       "      <td>M</td>\n",
       "      <td>M</td>\n",
       "      <td>1</td>\n",
       "      <td>0</td>\n",
       "      <td>0</td>\n",
       "      <td>2</td>\n",
       "      <td>137947</td>\n",
       "      <td>50</td>\n",
       "      <td>0</td>\n",
       "    </tr>\n",
       "    <tr>\n",
       "      <th>1</th>\n",
       "      <td>11001</td>\n",
       "      <td>117</td>\n",
       "      <td>Eugene</td>\n",
       "      <td>Huang</td>\n",
       "      <td>2243 W St.</td>\n",
       "      <td>Seaford</td>\n",
       "      <td>Victoria</td>\n",
       "      <td>Australia</td>\n",
       "      <td>3198</td>\n",
       "      <td>1 (11) 500 555-0110</td>\n",
       "      <td>51</td>\n",
       "      <td>Bachelors</td>\n",
       "      <td>Professional</td>\n",
       "      <td>M</td>\n",
       "      <td>S</td>\n",
       "      <td>0</td>\n",
       "      <td>1</td>\n",
       "      <td>3</td>\n",
       "      <td>3</td>\n",
       "      <td>101141</td>\n",
       "      <td>51</td>\n",
       "      <td>1</td>\n",
       "    </tr>\n",
       "    <tr>\n",
       "      <th>2</th>\n",
       "      <td>11002</td>\n",
       "      <td>123</td>\n",
       "      <td>Ruben</td>\n",
       "      <td>Torres</td>\n",
       "      <td>5844 Linden Land</td>\n",
       "      <td>Hobart</td>\n",
       "      <td>Tasmania</td>\n",
       "      <td>Australia</td>\n",
       "      <td>7001</td>\n",
       "      <td>1 (11) 500 555-0184</td>\n",
       "      <td>50</td>\n",
       "      <td>Bachelors</td>\n",
       "      <td>Professional</td>\n",
       "      <td>M</td>\n",
       "      <td>M</td>\n",
       "      <td>1</td>\n",
       "      <td>1</td>\n",
       "      <td>3</td>\n",
       "      <td>3</td>\n",
       "      <td>91945</td>\n",
       "      <td>50</td>\n",
       "      <td>0</td>\n",
       "    </tr>\n",
       "    <tr>\n",
       "      <th>3</th>\n",
       "      <td>11003</td>\n",
       "      <td>50</td>\n",
       "      <td>Christy</td>\n",
       "      <td>Zhu</td>\n",
       "      <td>1825 Village Pl.</td>\n",
       "      <td>North Ryde</td>\n",
       "      <td>New South Wales</td>\n",
       "      <td>Australia</td>\n",
       "      <td>2113</td>\n",
       "      <td>1 (11) 500 555-0162</td>\n",
       "      <td>48</td>\n",
       "      <td>Bachelors</td>\n",
       "      <td>Professional</td>\n",
       "      <td>F</td>\n",
       "      <td>S</td>\n",
       "      <td>0</td>\n",
       "      <td>1</td>\n",
       "      <td>0</td>\n",
       "      <td>0</td>\n",
       "      <td>86688</td>\n",
       "      <td>48</td>\n",
       "      <td>0</td>\n",
       "    </tr>\n",
       "    <tr>\n",
       "      <th>4</th>\n",
       "      <td>11004</td>\n",
       "      <td>95</td>\n",
       "      <td>Elizabeth</td>\n",
       "      <td>Johnson</td>\n",
       "      <td>7553 Harness Circle</td>\n",
       "      <td>Wollongong</td>\n",
       "      <td>New South Wales</td>\n",
       "      <td>Australia</td>\n",
       "      <td>2500</td>\n",
       "      <td>1 (11) 500 555-0131</td>\n",
       "      <td>47</td>\n",
       "      <td>Bachelors</td>\n",
       "      <td>Professional</td>\n",
       "      <td>F</td>\n",
       "      <td>S</td>\n",
       "      <td>1</td>\n",
       "      <td>4</td>\n",
       "      <td>5</td>\n",
       "      <td>5</td>\n",
       "      <td>92771</td>\n",
       "      <td>47</td>\n",
       "      <td>1</td>\n",
       "    </tr>\n",
       "    <tr>\n",
       "      <th>...</th>\n",
       "      <td>...</td>\n",
       "      <td>...</td>\n",
       "      <td>...</td>\n",
       "      <td>...</td>\n",
       "      <td>...</td>\n",
       "      <td>...</td>\n",
       "      <td>...</td>\n",
       "      <td>...</td>\n",
       "      <td>...</td>\n",
       "      <td>...</td>\n",
       "      <td>...</td>\n",
       "      <td>...</td>\n",
       "      <td>...</td>\n",
       "      <td>...</td>\n",
       "      <td>...</td>\n",
       "      <td>...</td>\n",
       "      <td>...</td>\n",
       "      <td>...</td>\n",
       "      <td>...</td>\n",
       "      <td>...</td>\n",
       "      <td>...</td>\n",
       "      <td>...</td>\n",
       "    </tr>\n",
       "    <tr>\n",
       "      <th>16399</th>\n",
       "      <td>13121</td>\n",
       "      <td>101</td>\n",
       "      <td>Latasha</td>\n",
       "      <td>Jimenez</td>\n",
       "      <td>7259 Birchwood</td>\n",
       "      <td>Melton</td>\n",
       "      <td>Victoria</td>\n",
       "      <td>Australia</td>\n",
       "      <td>3337</td>\n",
       "      <td>1 (11) 500 555-0118</td>\n",
       "      <td>51</td>\n",
       "      <td>Bachelors</td>\n",
       "      <td>Professional</td>\n",
       "      <td>F</td>\n",
       "      <td>M</td>\n",
       "      <td>1</td>\n",
       "      <td>4</td>\n",
       "      <td>5</td>\n",
       "      <td>5</td>\n",
       "      <td>101542</td>\n",
       "      <td>51</td>\n",
       "      <td>0</td>\n",
       "    </tr>\n",
       "    <tr>\n",
       "      <th>16400</th>\n",
       "      <td>26100</td>\n",
       "      <td>46</td>\n",
       "      <td>James</td>\n",
       "      <td>Ptaszynski</td>\n",
       "      <td>7345 Kenwal Rd.</td>\n",
       "      <td>Shawnee</td>\n",
       "      <td>British Columbia</td>\n",
       "      <td>Canada</td>\n",
       "      <td>V8Z 4N5</td>\n",
       "      <td>127-555-0194</td>\n",
       "      <td>80</td>\n",
       "      <td>Partial College</td>\n",
       "      <td>Professional</td>\n",
       "      <td>F</td>\n",
       "      <td>S</td>\n",
       "      <td>1</td>\n",
       "      <td>2</td>\n",
       "      <td>0</td>\n",
       "      <td>3</td>\n",
       "      <td>46549</td>\n",
       "      <td>80</td>\n",
       "      <td>0</td>\n",
       "    </tr>\n",
       "    <tr>\n",
       "      <th>16401</th>\n",
       "      <td>11328</td>\n",
       "      <td>79</td>\n",
       "      <td>Julian</td>\n",
       "      <td>Griffin</td>\n",
       "      <td>7398 Withersed Lane</td>\n",
       "      <td>Newton</td>\n",
       "      <td>British Columbia</td>\n",
       "      <td>Canada</td>\n",
       "      <td>V2L3W8</td>\n",
       "      <td>636-555-0197</td>\n",
       "      <td>76</td>\n",
       "      <td>Bachelors</td>\n",
       "      <td>Management</td>\n",
       "      <td>M</td>\n",
       "      <td>M</td>\n",
       "      <td>1</td>\n",
       "      <td>2</td>\n",
       "      <td>0</td>\n",
       "      <td>5</td>\n",
       "      <td>133053</td>\n",
       "      <td>76</td>\n",
       "      <td>0</td>\n",
       "    </tr>\n",
       "    <tr>\n",
       "      <th>16402</th>\n",
       "      <td>23077</td>\n",
       "      <td>65</td>\n",
       "      <td>Marvin</td>\n",
       "      <td>Hernandez</td>\n",
       "      <td>1019 Book Road</td>\n",
       "      <td>Rhodes</td>\n",
       "      <td>New South Wales</td>\n",
       "      <td>Australia</td>\n",
       "      <td>2138</td>\n",
       "      <td>1 (11) 500 555-0112</td>\n",
       "      <td>69</td>\n",
       "      <td>High School</td>\n",
       "      <td>Skilled Manual</td>\n",
       "      <td>M</td>\n",
       "      <td>M</td>\n",
       "      <td>1</td>\n",
       "      <td>2</td>\n",
       "      <td>0</td>\n",
       "      <td>4</td>\n",
       "      <td>31930</td>\n",
       "      <td>69</td>\n",
       "      <td>0</td>\n",
       "    </tr>\n",
       "    <tr>\n",
       "      <th>16403</th>\n",
       "      <td>18982</td>\n",
       "      <td>68</td>\n",
       "      <td>Kyle</td>\n",
       "      <td>Baker</td>\n",
       "      <td>2118 Little Dr.</td>\n",
       "      <td>Kirkland</td>\n",
       "      <td>Washington</td>\n",
       "      <td>United States</td>\n",
       "      <td>98033</td>\n",
       "      <td>685-555-0144</td>\n",
       "      <td>71</td>\n",
       "      <td>High School</td>\n",
       "      <td>Professional</td>\n",
       "      <td>M</td>\n",
       "      <td>S</td>\n",
       "      <td>1</td>\n",
       "      <td>2</td>\n",
       "      <td>0</td>\n",
       "      <td>4</td>\n",
       "      <td>59382</td>\n",
       "      <td>71</td>\n",
       "      <td>0</td>\n",
       "    </tr>\n",
       "  </tbody>\n",
       "</table>\n",
       "<p>16404 rows × 22 columns</p>\n",
       "</div>"
      ],
      "text/plain": [
       "       CustomerID  AveMonthSpend  FirstName    LastName         AddressLine1  \\\n",
       "0           11000             89        Jon        Yang      3761 N. 14th St   \n",
       "1           11001            117     Eugene       Huang           2243 W St.   \n",
       "2           11002            123      Ruben      Torres     5844 Linden Land   \n",
       "3           11003             50    Christy         Zhu     1825 Village Pl.   \n",
       "4           11004             95  Elizabeth     Johnson  7553 Harness Circle   \n",
       "...           ...            ...        ...         ...                  ...   \n",
       "16399       13121            101    Latasha     Jimenez       7259 Birchwood   \n",
       "16400       26100             46      James  Ptaszynski      7345 Kenwal Rd.   \n",
       "16401       11328             79     Julian     Griffin  7398 Withersed Lane   \n",
       "16402       23077             65     Marvin   Hernandez       1019 Book Road   \n",
       "16403       18982             68       Kyle       Baker      2118 Little Dr.   \n",
       "\n",
       "              City StateProvinceName CountryRegionName PostalCode  \\\n",
       "0      Rockhampton        Queensland         Australia       4700   \n",
       "1          Seaford          Victoria         Australia       3198   \n",
       "2           Hobart          Tasmania         Australia       7001   \n",
       "3       North Ryde   New South Wales         Australia       2113   \n",
       "4       Wollongong   New South Wales         Australia       2500   \n",
       "...            ...               ...               ...        ...   \n",
       "16399       Melton          Victoria         Australia       3337   \n",
       "16400      Shawnee  British Columbia            Canada    V8Z 4N5   \n",
       "16401       Newton  British Columbia            Canada     V2L3W8   \n",
       "16402       Rhodes   New South Wales         Australia       2138   \n",
       "16403     Kirkland        Washington     United States      98033   \n",
       "\n",
       "               PhoneNumber BirthDate        Education      Occupation Gender  \\\n",
       "0      1 (11) 500 555-0162        50       Bachelors     Professional      M   \n",
       "1      1 (11) 500 555-0110        51       Bachelors     Professional      M   \n",
       "2      1 (11) 500 555-0184        50       Bachelors     Professional      M   \n",
       "3      1 (11) 500 555-0162        48       Bachelors     Professional      F   \n",
       "4      1 (11) 500 555-0131        47       Bachelors     Professional      F   \n",
       "...                    ...       ...              ...             ...    ...   \n",
       "16399  1 (11) 500 555-0118        51       Bachelors     Professional      F   \n",
       "16400         127-555-0194        80  Partial College    Professional      F   \n",
       "16401         636-555-0197        76       Bachelors       Management      M   \n",
       "16402  1 (11) 500 555-0112        69      High School  Skilled Manual      M   \n",
       "16403         685-555-0144        71      High School    Professional      M   \n",
       "\n",
       "      MaritalStatus  HomeOwnerFlag  NumberCarsOwned  NumberChildrenAtHome  \\\n",
       "0                 M              1                0                     0   \n",
       "1                 S              0                1                     3   \n",
       "2                 M              1                1                     3   \n",
       "3                 S              0                1                     0   \n",
       "4                 S              1                4                     5   \n",
       "...             ...            ...              ...                   ...   \n",
       "16399             M              1                4                     5   \n",
       "16400             S              1                2                     0   \n",
       "16401             M              1                2                     0   \n",
       "16402             M              1                2                     0   \n",
       "16403             S              1                2                     0   \n",
       "\n",
       "       TotalChildren  YearlyIncome Age  BikeBuyer  \n",
       "0                  2        137947  50          0  \n",
       "1                  3        101141  51          1  \n",
       "2                  3         91945  50          0  \n",
       "3                  0         86688  48          0  \n",
       "4                  5         92771  47          1  \n",
       "...              ...           ...  ..        ...  \n",
       "16399              5        101542  51          0  \n",
       "16400              3         46549  80          0  \n",
       "16401              5        133053  76          0  \n",
       "16402              4         31930  69          0  \n",
       "16403              4         59382  71          0  \n",
       "\n",
       "[16404 rows x 22 columns]"
      ]
     },
     "execution_count": 90,
     "metadata": {},
     "output_type": "execute_result"
    }
   ],
   "source": [
    "df=df.dropna(axis=1, how='any')\n",
    "df"
   ]
  },
  {
   "cell_type": "markdown",
   "metadata": {},
   "source": [
    "## Feature Selection"
   ]
  },
  {
   "cell_type": "code",
   "execution_count": 91,
   "metadata": {},
   "outputs": [],
   "source": [
    "pd.set_option('display.max_columns', None)\n",
    "dfcat_cols=[\"CountryRegionName\",\"Education\",\"Occupation\",\"Gender\",\"MaritalStatus\",\"HomeOwnerFlag\"]\n",
    "num_cols=[\"NumberCarsOwned\",\"NumberChildrenAtHome\",\"YearlyIncome\",\"Age\"]"
   ]
  },
  {
   "cell_type": "code",
   "execution_count": 92,
   "metadata": {},
   "outputs": [
    {
     "name": "stdout",
     "output_type": "stream",
     "text": [
      "[dtype('int64'), dtype('int64'), dtype('int64'), dtype('O')]\n",
      "[dtype('O'), dtype('O'), dtype('O'), dtype('O'), dtype('O'), dtype('int64')]\n"
     ]
    }
   ],
   "source": [
    "print([df[x].dtype for x in num_cols])\n",
    "print([df[x].dtype for x in cat_cols])"
   ]
  },
  {
   "cell_type": "code",
   "execution_count": 134,
   "metadata": {},
   "outputs": [
    {
     "data": {
      "image/png": "[encoded data removed]",
      "text/plain": [
       "<Figure size 360x360 with 1 Axes>"
      ]
     },
     "metadata": {},
     "output_type": "display_data"
    },
    {
     "data": {
      "image/png": "[encoded data removed]",
      "text/plain": [
       "<Figure size 360x360 with 1 Axes>"
      ]
     },
     "metadata": {},
     "output_type": "display_data"
    },
    {
     "data": {
      "image/png": "[encoded data removed]",
      "text/plain": [
       "<Figure size 360x360 with 1 Axes>"
      ]
     },
     "metadata": {},
     "output_type": "display_data"
    },
    {
     "data": {
      "image/png": "[encoded data removed]",
      "text/plain": [
       "<Figure size 360x360 with 1 Axes>"
      ]
     },
     "metadata": {},
     "output_type": "display_data"
    }
   ],
   "source": [
    "def plot_violin(credit, cols, col_x = 'BikeBuyer'):\n",
    "    for col in cols:\n",
    "        fig= plt.figure(figsize=(5,5))\n",
    "        sns.set_style(\"whitegrid\")\n",
    "        fig=sns.boxplot(col_x,col, data=credit)\n",
    "        plt.xlabel(col_x) # Set text for the x axis\n",
    "        plt.ylabel(col)# Set text for y axis\n",
    "        plt.show()\n",
    "\n",
    "plot_violin(df, num_cols)"
   ]
  },
  {
   "cell_type": "code",
   "execution_count": 94,
   "metadata": {},
   "outputs": [
    {
     "name": "stdout",
     "output_type": "stream",
     "text": [
      "ef 0        1.0\n",
      "1        1.0\n",
      "2        1.0\n",
      "3        1.0\n",
      "4        1.0\n",
      "        ... \n",
      "16399    1.0\n",
      "16400    1.0\n",
      "16401    1.0\n",
      "16402    1.0\n",
      "16403    1.0\n",
      "Name: dummy, Length: 16404, dtype: float64\n",
      "CountryRegionName\n"
     ]
    },
    {
     "data": {
      "image/png": "[encoded data removed]",
      "text/plain": [
       "<Figure size 720x288 with 2 Axes>"
      ]
     },
     "metadata": {},
     "output_type": "display_data"
    },
    {
     "name": "stdout",
     "output_type": "stream",
     "text": [
      "Education\n"
     ]
    },
    {
     "data": {
      "image/png": "[encoded data removed]",
      "text/plain": [
       "<Figure size 720x288 with 2 Axes>"
      ]
     },
     "metadata": {},
     "output_type": "display_data"
    },
    {
     "name": "stdout",
     "output_type": "stream",
     "text": [
      "Occupation\n"
     ]
    },
    {
     "data": {
      "image/png": "[encoded data removed]",
      "text/plain": [
       "<Figure size 720x288 with 2 Axes>"
      ]
     },
     "metadata": {},
     "output_type": "display_data"
    },
    {
     "name": "stdout",
     "output_type": "stream",
     "text": [
      "Gender\n"
     ]
    },
    {
     "data": {
      "image/png": "[encoded data removed]",
      "text/plain": [
       "<Figure size 720x288 with 2 Axes>"
      ]
     },
     "metadata": {},
     "output_type": "display_data"
    },
    {
     "name": "stdout",
     "output_type": "stream",
     "text": [
      "MaritalStatus\n"
     ]
    },
    {
     "data": {
      "image/png": "[encoded data removed]",
      "text/plain": [
       "<Figure size 720x288 with 2 Axes>"
      ]
     },
     "metadata": {},
     "output_type": "display_data"
    },
    {
     "name": "stdout",
     "output_type": "stream",
     "text": [
      "HomeOwnerFlag\n"
     ]
    },
    {
     "data": {
      "image/png": "[encoded data removed]",
      "text/plain": [
       "<Figure size 720x288 with 2 Axes>"
      ]
     },
     "metadata": {},
     "output_type": "display_data"
    }
   ],
   "source": [
    "dummydf=df.copy()\n",
    "dummydf['dummy'] = np.ones(shape = dummydf.shape[0])\n",
    "print('ef',dummydf['dummy'])\n",
    "for col in cat_cols:\n",
    "    print(col)\n",
    "    counts = dummydf[['dummy', 'BikeBuyer', col]].groupby(['BikeBuyer', col], as_index = False).count()\n",
    "    temp = counts[counts['BikeBuyer'] == 0][[col, 'dummy']]\n",
    "    _ = plt.figure(figsize = (10,4))\n",
    "    plt.subplot(1, 2, 1)\n",
    "    temp = counts[counts['BikeBuyer'] == 0][[col, 'dummy']]\n",
    "    plt.bar(temp[col], temp.dummy)\n",
    "    plt.xticks(rotation=90)\n",
    "    plt.title('Counts for ' + col + '\\n Not bought bike')\n",
    "    plt.ylabel('count')\n",
    "    plt.subplot(1, 2, 2)\n",
    "    temp = counts[counts['BikeBuyer'] == 1][[col, 'dummy']]\n",
    "    plt.bar(temp[col], temp.dummy)\n",
    "    plt.xticks(rotation=90)\n",
    "    plt.title('Counts for ' + col + '\\n Bought bike')\n",
    "    plt.ylabel('count')\n",
    "    plt.show()"
   ]
  },
  {
   "cell_type": "code",
   "execution_count": 95,
   "metadata": {},
   "outputs": [],
   "source": [
    "usenum_col=[\"NumberCarsOwned\",\"NumberChildrenAtHome\",\"YearlyIncome\",\"Age\"]\n",
    "usecat_col=[\"Occupation\",\"Gender\",\"MaritalStatus\"]"
   ]
  },
  {
   "cell_type": "markdown",
   "metadata": {},
   "source": [
    "## Model Selection"
   ]
  },
  {
   "cell_type": "markdown",
   "metadata": {},
   "source": [
    "Start by logistic regression. \n",
    "Check class imbalances"
   ]
  },
  {
   "cell_type": "code",
   "execution_count": 116,
   "metadata": {},
   "outputs": [
    {
     "data": {
      "text/plain": [
       "0    10949\n",
       "1     5455\n",
       "Name: BikeBuyer, dtype: int64"
      ]
     },
     "execution_count": 116,
     "metadata": {},
     "output_type": "execute_result"
    }
   ],
   "source": [
    "df[\"BikeBuyer\"].value_counts()"
   ]
  },
  {
   "cell_type": "markdown",
   "metadata": {},
   "source": [
    "Encoding categorical var"
   ]
  },
  {
   "cell_type": "code",
   "execution_count": 117,
   "metadata": {},
   "outputs": [
    {
     "name": "stdout",
     "output_type": "stream",
     "text": [
      "(16404, 9)\n",
      "[[0. 0. 0. 1. 0. 0. 1. 1. 0.]\n",
      " [0. 0. 0. 1. 0. 0. 1. 0. 1.]]\n"
     ]
    }
   ],
   "source": [
    "def encode_string(cat_features):\n",
    "    ## First encode the strings to numeric categories\n",
    "    enc = preprocessing.LabelEncoder()\n",
    "    enc.fit(cat_features)\n",
    "    enc_cat_features = enc.transform(cat_features)\n",
    "    ## Now, apply one hot encoding\n",
    "    ohe = preprocessing.OneHotEncoder()\n",
    "    encoded = ohe.fit(enc_cat_features.reshape(-1,1))\n",
    "    return encoded.transform(enc_cat_features.reshape(-1,1)).toarray()\n",
    "\n",
    "categorical_columns = [\"Gender\",\"MaritalStatus\"]\n",
    "\n",
    "Features = encode_string(df[\"Occupation\"])\n",
    "for col in categorical_columns:\n",
    "    temp = encode_string(df[col])\n",
    "    Features = np.concatenate([Features, temp], axis = 1)\n",
    "\n",
    "print(Features.shape)\n",
    "print(Features[:2, :])    "
   ]
  },
  {
   "cell_type": "code",
   "execution_count": 118,
   "metadata": {},
   "outputs": [
    {
     "name": "stdout",
     "output_type": "stream",
     "text": [
      "(16404, 13)\n",
      "[[0.0 0.0 0.0 1.0 0.0 0.0 1.0 1.0 0.0 0 0 137947 50]\n",
      " [0.0 0.0 0.0 1.0 0.0 0.0 1.0 0.0 1.0 1 3 101141 51]]\n"
     ]
    }
   ],
   "source": [
    "Features = np.concatenate([Features, np.array(df[[\"NumberCarsOwned\",\"NumberChildrenAtHome\",\n",
    "                                                  \"YearlyIncome\",\"Age\"]])], axis = 1)\n",
    "print(Features.shape)\n",
    "print(Features[:2, :])   "
   ]
  },
  {
   "cell_type": "markdown",
   "metadata": {},
   "source": [
    "divide data into training and test"
   ]
  },
  {
   "cell_type": "code",
   "execution_count": 119,
   "metadata": {},
   "outputs": [],
   "source": [
    "labels = np.array(df['BikeBuyer'])"
   ]
  },
  {
   "cell_type": "code",
   "execution_count": 120,
   "metadata": {},
   "outputs": [],
   "source": [
    "nr.seed(9988)\n",
    "indx = range(Features.shape[0])\n",
    "indx = ms.train_test_split(indx, test_size = 3280)\n",
    "X_train = Features[indx[0],:]\n",
    "y_train = np.ravel(labels[indx[0]])\n",
    "X_test = Features[indx[1],:]\n",
    "y_test = np.ravel(labels[indx[1]])"
   ]
  },
  {
   "cell_type": "code",
   "execution_count": 126,
   "metadata": {},
   "outputs": [
    {
     "data": {
      "text/plain": [
       "(3280, 13)"
      ]
     },
     "execution_count": 126,
     "metadata": {},
     "output_type": "execute_result"
    }
   ],
   "source": [
    "np.shape(X_test)"
   ]
  },
  {
   "cell_type": "markdown",
   "metadata": {},
   "source": [
    "Normalise numerical data"
   ]
  },
  {
   "cell_type": "code",
   "execution_count": 101,
   "metadata": {},
   "outputs": [
    {
     "data": {
      "text/plain": [
       "array([[0.0, 0.0, 0.0, 1.0, 0.0, 0.0, 1.0, 0.0, 1.0, 0.4392543216157885,\n",
       "        -0.65154727336091, 0.04368090752480528, 0.6185231655186291],\n",
       "       [0.0, 1.0, 0.0, 0.0, 0.0, 1.0, 0.0, 1.0, 0.0, 1.3184328662071578,\n",
       "        0.009111493199283402, 1.9970039239760968, -0.3606361807791282]],\n",
       "      dtype=object)"
      ]
     },
     "execution_count": 101,
     "metadata": {},
     "output_type": "execute_result"
    }
   ],
   "source": [
    "scaler = preprocessing.StandardScaler().fit(X_train[:,9:])\n",
    "X_train[:,9:] = scaler.transform(X_train[:,9:])\n",
    "X_test[:,9:] = scaler.transform(X_test[:,9:])\n",
    "X_train[:2,]"
   ]
  },
  {
   "cell_type": "markdown",
   "metadata": {},
   "source": [
    "fitting in logistic regression on 80% data as test set"
   ]
  },
  {
   "cell_type": "code",
   "execution_count": 102,
   "metadata": {},
   "outputs": [
    {
     "data": {
      "text/plain": [
       "LogisticRegression(C=1.0, class_weight=None, dual=False, fit_intercept=True,\n",
       "                   intercept_scaling=1, l1_ratio=None, max_iter=300,\n",
       "                   multi_class='auto', n_jobs=None, penalty='l2',\n",
       "                   random_state=None, solver='lbfgs', tol=0.0001, verbose=0,\n",
       "                   warm_start=False)"
      ]
     },
     "execution_count": 102,
     "metadata": {},
     "output_type": "execute_result"
    }
   ],
   "source": [
    "logistic_mod = linear_model.LogisticRegression(max_iter=300) \n",
    "logistic_mod.fit(X_train, y_train)"
   ]
  },
  {
   "cell_type": "code",
   "execution_count": 103,
   "metadata": {},
   "outputs": [
    {
     "name": "stdout",
     "output_type": "stream",
     "text": [
      "[-0.93487368]\n",
      "[[-0.03135039 -0.32843476  0.02458427  0.20059925  0.13492521 -0.32410641\n",
      "   0.32442999 -0.73606402  0.73638759 -0.16843639  1.17022755  0.58365784\n",
      "  -0.39905965]]\n"
     ]
    }
   ],
   "source": [
    "print(logistic_mod.intercept_)\n",
    "print(logistic_mod.coef_)"
   ]
  },
  {
   "cell_type": "markdown",
   "metadata": {},
   "source": [
    "Steps from here to be applied on new data after converting it into features"
   ]
  },
  {
   "cell_type": "code",
   "execution_count": 104,
   "metadata": {},
   "outputs": [
    {
     "name": "stdout",
     "output_type": "stream",
     "text": [
      "[[0.72669971 0.27330029]\n",
      " [0.56074826 0.43925174]\n",
      " [0.59885901 0.40114099]\n",
      " [0.76831269 0.23168731]\n",
      " [0.87825305 0.12174695]\n",
      " [0.96268993 0.03731007]\n",
      " [0.92570091 0.07429909]\n",
      " [0.92947532 0.07052468]\n",
      " [0.94090846 0.05909154]\n",
      " [0.78101114 0.21898886]]\n"
     ]
    }
   ],
   "source": [
    "prob = logistic_mod.predict_proba(X_test)\n",
    "print(prob[:10,:])"
   ]
  },
  {
   "cell_type": "markdown",
   "metadata": {},
   "source": [
    "evaluation"
   ]
  },
  {
   "cell_type": "code",
   "execution_count": 105,
   "metadata": {},
   "outputs": [
    {
     "name": "stdout",
     "output_type": "stream",
     "text": [
      "[0 0 0 0 0 0 0 0 0 0 0 1 0 0 0]\n",
      "[1 0 1 1 0 0 0 0 0 0 0 1 0 0 0]\n"
     ]
    }
   ],
   "source": [
    "def score_model(prob, threshold):\n",
    "    return np.array([1 if x > threshold else 0 for x in prob[:,1]])\n",
    "scores = score_model(prob, 0.5)\n",
    "print(np.array(scores[:15]))\n",
    "print(y_test[:15])"
   ]
  },
  {
   "cell_type": "code",
   "execution_count": 106,
   "metadata": {},
   "outputs": [],
   "source": [
    "def print_metrics(labels, scores):\n",
    "    metrics = sklm.precision_recall_fscore_support(labels, scores)\n",
    "    conf = sklm.confusion_matrix(labels, scores)\n",
    "    print('                 Confusion matrix')\n",
    "    print('                 Score positive    Score negative')\n",
    "    print('Actual positive    %6d' % conf[0,0] + '             %5d' % conf[0,1])\n",
    "    print('Actual negative    %6d' % conf[1,0] + '             %5d' % conf[1,1])\n",
    "    print('')\n",
    "    print('Accuracy  %0.2f' % sklm.accuracy_score(labels, scores))\n",
    "    print(' ')\n",
    "    print('           Positive      Negative')\n",
    "    print('Num case   %6d' % metrics[3][0] + '        %6d' % metrics[3][1])\n",
    "    print('Precision  %6.2f' % metrics[0][0] + '        %6.2f' % metrics[0][1])\n",
    "    print('Recall     %6.2f' % metrics[1][0] + '        %6.2f' % metrics[1][1])\n",
    "    print('F1         %6.2f' % metrics[2][0] + '        %6.2f' % metrics[2][1])\n"
   ]
  },
  {
   "cell_type": "code",
   "execution_count": 107,
   "metadata": {},
   "outputs": [
    {
     "name": "stdout",
     "output_type": "stream",
     "text": [
      "                 Confusion matrix\n",
      "                 Score positive    Score negative\n",
      "Actual positive      1948               252\n",
      "Actual negative       475               605\n",
      "\n",
      "Accuracy  0.78\n",
      " \n",
      "           Positive      Negative\n",
      "Num case     2200          1080\n",
      "Precision    0.80          0.71\n",
      "Recall       0.89          0.56\n",
      "F1           0.84          0.62\n"
     ]
    }
   ],
   "source": [
    "print_metrics(y_test, scores)     "
   ]
  },
  {
   "cell_type": "code",
   "execution_count": 108,
   "metadata": {},
   "outputs": [
    {
     "name": "stdout",
     "output_type": "stream",
     "text": [
      "[0 0 0 0 0 0 0 0 0 0 0 1 0 0 0]\n",
      "[1 0 1 1 0 0 0 0 0 0 0 1 0 0 0]\n"
     ]
    }
   ],
   "source": [
    "def score_model(prob, threshold):\n",
    "    return np.array([1 if x > threshold else 0 for x in prob[:,1]])\n",
    "scores = score_model(prob, 0.47)\n",
    "print(np.array(scores[:15]))\n",
    "print(y_test[:15])"
   ]
  },
  {
   "cell_type": "code",
   "execution_count": 109,
   "metadata": {},
   "outputs": [],
   "source": [
    "def print_metrics(labels, scores):\n",
    "    metrics = sklm.precision_recall_fscore_support(labels, scores)\n",
    "    conf = sklm.confusion_matrix(labels, scores)\n",
    "    print('                 Confusion matrix')\n",
    "    print('                 Score positive    Score negative')\n",
    "    print('Actual positive    %6d' % conf[0,0] + '             %5d' % conf[0,1])\n",
    "    print('Actual negative    %6d' % conf[1,0] + '             %5d' % conf[1,1])\n",
    "    print('')\n",
    "    print('Accuracy  %0.2f' % sklm.accuracy_score(labels, scores))\n",
    "    print(' ')\n",
    "    print('           Positive      Negative')\n",
    "    print('Num case   %6d' % metrics[3][0] + '        %6d' % metrics[3][1])\n",
    "    print('Precision  %6.2f' % metrics[0][0] + '        %6.2f' % metrics[0][1])\n",
    "    print('Recall     %6.2f' % metrics[1][0] + '        %6.2f' % metrics[1][1])\n",
    "    print('F1         %6.2f' % metrics[2][0] + '        %6.2f' % metrics[2][1])"
   ]
  },
  {
   "cell_type": "code",
   "execution_count": 110,
   "metadata": {},
   "outputs": [
    {
     "name": "stdout",
     "output_type": "stream",
     "text": [
      "                 Confusion matrix\n",
      "                 Score positive    Score negative\n",
      "Actual positive      1920               280\n",
      "Actual negative       449               631\n",
      "\n",
      "Accuracy  0.78\n",
      " \n",
      "           Positive      Negative\n",
      "Num case     2200          1080\n",
      "Precision    0.81          0.69\n",
      "Recall       0.87          0.58\n",
      "F1           0.84          0.63\n"
     ]
    }
   ],
   "source": [
    "print_metrics(y_test, scores)   "
   ]
  },
  {
   "cell_type": "markdown",
   "metadata": {},
   "source": [
    "## Working with question's dataset"
   ]
  },
  {
   "cell_type": "code",
   "execution_count": 127,
   "metadata": {},
   "outputs": [
    {
     "name": "stderr",
     "output_type": "stream",
     "text": [
      "C:\\Users\\prakash\\anaconda3\\lib\\site-packages\\ipykernel_launcher.py:19: SettingWithCopyWarning: \n",
      "A value is trying to be set on a copy of a slice from a DataFrame\n",
      "\n",
      "See the caveats in the documentation: https://pandas.pydata.org/pandas-docs/stable/user_guide/indexing.html#returning-a-view-versus-a-copy\n"
     ]
    },
    {
     "name": "stdout",
     "output_type": "stream",
     "text": [
      "(500, 9)\n",
      "[[0. 1. 0. 0. 0. 1. 0. 0. 1.]\n",
      " [0. 0. 0. 0. 1. 0. 1. 1. 0.]]\n",
      "(500, 13)\n",
      "[[0.0 1.0 0.0 0.0 0.0 1.0 0.0 0.0 1.0 2 0 86931 71]\n",
      " [0.0 0.0 0.0 0.0 1.0 0.0 1.0 1.0 0.0 2 2 100125 51]]\n"
     ]
    }
   ],
   "source": [
    "dft=pd.read_csv(\"AW_test.csv\")\n",
    "dft.columns\n",
    "\n",
    "dft=dft.dropna(axis=1, how='any')\n",
    "dft.head()\n",
    "\n",
    "def keep_unique(df):\n",
    "    lis=[]\n",
    "    for x in df[\"CustomerID\"]:\n",
    "        if x in lis:\n",
    "            df.drop(axis=0, inplace=True, labels=df[df[\"CustomerID\"]==x].index[0])\n",
    "        else:\n",
    "            lis.append(x)\n",
    "\n",
    "keep_unique(dft)\n",
    "len(dft['CustomerID'])   \n",
    "\n",
    "for x in range (len(dft[\"BirthDate\"])):\n",
    "    dft[\"BirthDate\"][x]= np.int64(str((pd.Timestamp('9/1/2016')-pd.Timestamp(dft[\"BirthDate\"][x]))/366).split()[0])\n",
    "dft[\"Age\"]= dft[\"BirthDate\"]\n",
    "\n",
    "pd.set_option('display.max_columns', None)\n",
    "dft=dft.dropna(axis=1, how='any')\n",
    "dft.head()\n",
    "\n",
    "usenum_col=[\"NumberCarsOwned\",\"NumberChildrenAtHome\",\"YearlyIncome\",\"Age\"]\n",
    "usecat_col=[\"Occupation\",\"Gender\",\"MaritalStatus\"]\n",
    "\n",
    "def encode_string(cat_features):\n",
    "    ## First encode the strings to numeric categories\n",
    "    enc = preprocessing.LabelEncoder()\n",
    "    enc.fit(cat_features)\n",
    "    enc_cat_features = enc.transform(cat_features)\n",
    "    ## Now, apply one hot encoding\n",
    "    ohe = preprocessing.OneHotEncoder()\n",
    "    encoded = ohe.fit(enc_cat_features.reshape(-1,1))\n",
    "    return encoded.transform(enc_cat_features.reshape(-1,1)).toarray()\n",
    "\n",
    "categorical_columns = [\"Gender\",\"MaritalStatus\"]\n",
    "\n",
    "Features = encode_string(dft[\"Occupation\"])\n",
    "for col in categorical_columns:\n",
    "    temp = encode_string(dft[col])\n",
    "    Features = np.concatenate([Features, temp], axis = 1)\n",
    "\n",
    "print(Features.shape)\n",
    "print(Features[:2, :])   \n",
    "\n",
    "Features = np.concatenate([Features, np.array(dft[[\"NumberCarsOwned\",\"NumberChildrenAtHome\",\n",
    "                                                  \"YearlyIncome\",\"Age\"]])], axis = 1)\n",
    "print(Features.shape)\n",
    "print(Features[:2, :])   \n",
    "\n"
   ]
  },
  {
   "cell_type": "code",
   "execution_count": 130,
   "metadata": {},
   "outputs": [
    {
     "data": {
      "text/plain": [
       "array([[0.0, 1.0, 0.0, 0.0, 0.0, 1.0, 0.0, 0.0, 1.0, 2, 0, 86931, 71],\n",
       "       [0.0, 0.0, 0.0, 0.0, 1.0, 0.0, 1.0, 1.0, 0.0, 2, 2, 100125, 51],\n",
       "       [0.0, 1.0, 0.0, 0.0, 0.0, 1.0, 0.0, 1.0, 0.0, 2, 0, 103985, 82],\n",
       "       [0.0, 0.0, 0.0, 0.0, 1.0, 0.0, 1.0, 1.0, 0.0, 0, 0, 127161, 57],\n",
       "       [0.0, 0.0, 1.0, 0.0, 0.0, 1.0, 0.0, 1.0, 0.0, 1, 2, 21876, 51]],\n",
       "      dtype=object)"
      ]
     },
     "execution_count": 130,
     "metadata": {},
     "output_type": "execute_result"
    }
   ],
   "source": [
    "X_test = Features\n",
    "X_test[:5]"
   ]
  },
  {
   "cell_type": "code",
   "execution_count": 131,
   "metadata": {},
   "outputs": [
    {
     "data": {
      "text/plain": [
       "array([[0.0, 1.0, 0.0, 0.0, 0.0, 1.0, 0.0, 0.0, 1.0, 0.4392543216157885,\n",
       "        -0.65154727336091, 0.2234317769247784, 1.5086680257893175],\n",
       "       [0.0, 0.0, 0.0, 0.0, 1.0, 0.0, 1.0, 1.0, 0.0, 0.4392543216157885,\n",
       "        0.6697702597594768, 0.5558726194904141, -0.27162169475205933],\n",
       "       [0.0, 1.0, 0.0, 0.0, 0.0, 1.0, 0.0, 1.0, 0.0, 0.4392543216157885,\n",
       "        -0.65154727336091, 0.6531305891965952, 2.4878273720870747],\n",
       "       [0.0, 0.0, 0.0, 0.0, 1.0, 0.0, 1.0, 1.0, 0.0, -1.31910276756695,\n",
       "        -0.65154727336091, 1.2370815492770237, 0.26246522141035367],\n",
       "       [0.0, 0.0, 1.0, 0.0, 0.0, 1.0, 0.0, 1.0, 0.0,\n",
       "        -0.43992422297558076, 0.6697702597594768, -1.4157177617372976,\n",
       "        -0.27162169475205933]], dtype=object)"
      ]
     },
     "execution_count": 131,
     "metadata": {},
     "output_type": "execute_result"
    }
   ],
   "source": [
    "X_test[:,9:] = scaler.transform(X_test[:,9:])"
   ]
  },
  {
   "cell_type": "code",
   "execution_count": 133,
   "metadata": {},
   "outputs": [
    {
     "name": "stdout",
     "output_type": "stream",
     "text": [
      "[[0.89651729 0.10348271]\n",
      " [0.51723133 0.48276867]\n",
      " [0.97750061 0.02249939]\n",
      " [0.75668002 0.24331998]\n",
      " [0.86181872 0.13818128]\n",
      " [0.96607487 0.03392513]\n",
      " [0.26149301 0.73850699]\n",
      " [0.20029034 0.79970966]\n",
      " [0.14812044 0.85187956]\n",
      " [0.85995407 0.14004593]\n",
      " [0.54469174 0.45530826]\n",
      " [0.94520049 0.05479951]\n",
      " [0.93343888 0.06656112]\n",
      " [0.96584547 0.03415453]\n",
      " [0.73883696 0.26116304]\n",
      " [0.88411825 0.11588175]\n",
      " [0.78543363 0.21456637]\n",
      " [0.66239086 0.33760914]\n",
      " [0.03196898 0.96803102]\n",
      " [0.5723074  0.4276926 ]\n",
      " [0.9207926  0.0792074 ]\n",
      " [0.87266973 0.12733027]\n",
      " [0.04700203 0.95299797]\n",
      " [0.75123688 0.24876312]\n",
      " [0.86373693 0.13626307]\n",
      " [0.77435171 0.22564829]\n",
      " [0.74834756 0.25165244]\n",
      " [0.07022488 0.92977512]\n",
      " [0.4956136  0.5043864 ]\n",
      " [0.88040655 0.11959345]\n",
      " [0.31048304 0.68951696]\n",
      " [0.49474794 0.50525206]\n",
      " [0.98627114 0.01372886]\n",
      " [0.80788047 0.19211953]\n",
      " [0.30236611 0.69763389]\n",
      " [0.10511    0.89489   ]\n",
      " [0.05948132 0.94051868]\n",
      " [0.6106338  0.3893662 ]\n",
      " [0.84213524 0.15786476]\n",
      " [0.74867    0.25133   ]\n",
      " [0.66330535 0.33669465]\n",
      " [0.48545354 0.51454646]\n",
      " [0.79452209 0.20547791]\n",
      " [0.91760908 0.08239092]\n",
      " [0.8438596  0.1561404 ]\n",
      " [0.87729782 0.12270218]\n",
      " [0.84940298 0.15059702]\n",
      " [0.13598526 0.86401474]\n",
      " [0.43167033 0.56832967]\n",
      " [0.86000315 0.13999685]]\n"
     ]
    }
   ],
   "source": [
    "prob = logistic_mod.predict_proba(X_test)\n",
    "print(prob[:50,:])"
   ]
  },
  {
   "cell_type": "markdown",
   "metadata": {},
   "source": [
    "use score model fnc, append array on AW test"
   ]
  },
  {
   "cell_type": "markdown",
   "metadata": {},
   "source": [
    "make csv file of new df\n",
    "from xls file check if customer id of new df is in order. If not write simple n^2 for loop\n",
    "paste answer column from new csv file to xls. You will get accuracy\n",
    "keep changing model and running this, get max accuracy, enjoy"
   ]
  },
  {
   "cell_type": "code",
   "execution_count": null,
   "metadata": {},
   "outputs": [],
   "source": []
  }
 ],
 "metadata": {
  "kernelspec": {
   "display_name": "Python 3",
   "language": "python",
   "name": "python3"
  },
  "language_info": {
   "codemirror_mode": {
    "name": "ipython",
    "version": 3
   },
   "file_extension": ".py",
   "mimetype": "text/x-python",
   "name": "python",
   "nbconvert_exporter": "python",
   "pygments_lexer": "ipython3",
   "version": "3.7.6"
  }
 },
 "nbformat": 4,
 "nbformat_minor": 4
}
